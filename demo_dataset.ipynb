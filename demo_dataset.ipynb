{
 "cells": [
  {
   "cell_type": "markdown",
   "metadata": {},
   "source": [
    "# Adding a new dataset\n",
    "## CocoGlide"
   ]
  },
  {
   "cell_type": "markdown",
   "metadata": {},
   "source": [
    "We will create the wrapper for the CocoGlide dataset using Photoholmes. First, we will download the dataset and unzip it."
   ]
  },
  {
   "cell_type": "code",
   "execution_count": null,
   "metadata": {},
   "outputs": [],
   "source": [
    "!wget https://www.grip.unina.it/download/prog/TruFor/CocoGlide.zip  -q\n",
    "!unzip CocoGlide.zip -d dataset/"
   ]
  },
  {
   "cell_type": "code",
   "execution_count": null,
   "metadata": {},
   "outputs": [],
   "source": [
    "import glob\n",
    "import os\n",
    "from photoholmes.datasets.base import BaseDataset\n",
    "from torch import Tensor\n",
    "\n",
    "class CocoGlide(BaseDataset):\n",
    "    IMAGE_EXTENSION = \".png\"\n",
    "    MASK_EXTENSION = \".png\"\n",
    "\n",
    "    def _get_paths(self, dataset_path: str, tampered_only: bool = False):\n",
    "        image_paths = glob.glob(os.path.join(dataset_path, \"fake\", f\"*{self.IMAGE_EXTENSION}\"))\n",
    "        if not self.tampered_only:\n",
    "            image_paths += glob.glob(os.path.join(dataset_path, \"real\", f\"*{self.IMAGE_EXTENSION}\"))\n",
    "        print(len( image_paths ))\n",
    "\n",
    "        mask_paths = [self._get_mask_path(image_path) for image_path in image_paths]\n",
    "        \n",
    "        return image_paths, mask_paths\n",
    "        \n",
    "\n",
    "    def _get_mask_path(self, image_path: str) -> str:\n",
    "        if \"glide\" not in image_path: # fake images all start with \"glide\"\n",
    "            return None\n",
    "        \n",
    "        image_id = image_path.split(\"_\")[-2]\n",
    "        return glob.glob(os.path.join(self.dataset_path, \"mask\", f\"*_{image_id}_*{self.MASK_EXTENSION}\"))[0]\n",
    "\n",
    "    def _binarize_mask(self, mask_image: Tensor) -> Tensor:\n",
    "        return (mask_image == 255).float()\n",
    "\n",
    "\n",
    "dataset = CocoGlide('dataset/')"
   ]
  },
  {
   "cell_type": "code",
   "execution_count": null,
   "metadata": {},
   "outputs": [],
   "source": [
    "from photoholmes.methods.dq import DQ, dq_preprocessing\n",
    "from photoholmes.benchmark import Benchmark\n",
    "from photoholmes.metrics import AUROC\n",
    "\n",
    "metrics = [AUROC()]\n",
    "method = DQ()\n",
    "benchmark = Benchmark()\n",
    "dataset = CocoGlide('dataset/', preprocessing_pipeline=dq_preprocessing)\n",
    "\n",
    "benchmark.run(method=method, dataset=dataset, metrics=metrics)\n",
    "\n"
   ]
  },
  {
   "cell_type": "code",
   "execution_count": null,
   "metadata": {},
   "outputs": [],
   "source": []
  }
 ],
 "metadata": {
  "kernelspec": {
   "display_name": ".venv",
   "language": "python",
   "name": "python3"
  },
  "language_info": {
   "codemirror_mode": {
    "name": "ipython",
    "version": 3
   },
   "file_extension": ".py",
   "mimetype": "text/x-python",
   "name": "python",
   "nbconvert_exporter": "python",
   "pygments_lexer": "ipython3",
   "version": "3.12.3"
  }
 },
 "nbformat": 4,
 "nbformat_minor": 2
}
