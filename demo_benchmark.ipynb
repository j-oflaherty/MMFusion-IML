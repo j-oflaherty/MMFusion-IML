{
 "cells": [
  {
   "cell_type": "markdown",
   "metadata": {},
   "source": [
    "# Benchmark\n",
    "\n",
    "In this notebook we will make use of the benchmark module included in PhotoHolmes in order to benchmark Fusion with some of the included metrics in PhotoHolmes"
   ]
  },
  {
   "cell_type": "code",
   "execution_count": 1,
   "metadata": {},
   "outputs": [],
   "source": [
    "# Imports from PhotoHolmes\n",
    "from photoholmes.benchmark import Benchmark\n",
    "from photoholmes.datasets.factory import DatasetFactory\n",
    "from photoholmes.methods.factory import MethodFactory\n",
    "from photoholmes.metrics.factory import MetricFactory"
   ]
  },
  {
   "cell_type": "code",
   "execution_count": 2,
   "metadata": {},
   "outputs": [],
   "source": [
    "# The benchamrk module \n",
    "device = \"mps\"\n",
    "benchmark = Benchmark(\n",
    "            device=device,\n",
    "            verbose=1,\n",
    "            save_metrics=True,\n",
    "        )\n",
    "\n",
    "#benchmark.run()"
   ]
  },
  {
   "cell_type": "code",
   "execution_count": 3,
   "metadata": {},
   "outputs": [],
   "source": [
    "# CocoGlide dataset\n",
    "import glob\n",
    "import os\n",
    "from photoholmes.datasets.base import BaseDataset\n",
    "from torch import Tensor\n",
    "\n",
    "class CocoGlide(BaseDataset):\n",
    "    IMAGE_EXTENSION = \".png\"\n",
    "    MASK_EXTENSION = \".png\"\n",
    "\n",
    "    def _get_paths(self, dataset_path: str, tampered_only: bool = False):\n",
    "        image_paths = glob.glob(os.path.join(dataset_path, \"fake\", f\"*{self.IMAGE_EXTENSION}\"))\n",
    "        if not self.tampered_only:\n",
    "            image_paths += glob.glob(os.path.join(dataset_path, \"real\", f\"*{self.IMAGE_EXTENSION}\"))\n",
    "        print(len( image_paths ))\n",
    "\n",
    "        mask_paths = [self._get_mask_path(image_path) for image_path in image_paths]\n",
    "        \n",
    "        return image_paths, mask_paths\n",
    "        \n",
    "\n",
    "    def _get_mask_path(self, image_path: str) -> str:\n",
    "        if \"glide\" not in image_path: # fake images all start with \"glide\"\n",
    "            return None\n",
    "        \n",
    "        image_id = image_path.split(\"_\")[-2]\n",
    "        return glob.glob(os.path.join(self.dataset_path, \"mask\", f\"*_{image_id}_*{self.MASK_EXTENSION}\"))[0]\n",
    "\n",
    "    def _binarize_mask(self, mask_image: Tensor) -> Tensor:\n",
    "        return (mask_image[0,:,:] == 255).float()\n"
   ]
  },
  {
   "cell_type": "code",
   "execution_count": 4,
   "metadata": {},
   "outputs": [],
   "source": [
    "# Metrics\n",
    "metrics = MetricFactory.load(\n",
    "            [\n",
    "                \"auroc\",\n",
    "                \"f1_weighted_v1\",\n",
    "                \"iou_weighted_v1\",\n",
    "                \"mcc_weighted_v1\",\n",
    "            ]\n",
    "        )\n"
   ]
  },
  {
   "cell_type": "code",
   "execution_count": 5,
   "metadata": {},
   "outputs": [
    {
     "name": "stderr",
     "output_type": "stream",
     "text": [
      "/Users/julietaumpierrez/Desktop/MMFusion-IML/.venv/lib/python3.10/site-packages/tqdm/auto.py:21: TqdmWarning: IProgress not found. Please update jupyter and ipywidgets. See https://ipywidgets.readthedocs.io/en/stable/user_install.html\n",
      "  from .autonotebook import tqdm as notebook_tqdm\n"
     ]
    }
   ],
   "source": [
    "# Fusion\n",
    "import torch\n",
    "from photoholmes.methods.base import BenchmarkOutput, BaseTorchMethod\n",
    "from photoholmes.preprocessing import PreProcessingPipeline, ZeroOneRange\n",
    "import torchvision.transforms.functional as TF\n",
    "\n",
    "from models.cmnext_conf import CMNeXtWithConf\n",
    "from models.modal_extract import ModalitiesExtractor\n",
    "from configs.cmnext_init_cfg import _C as config, update_config\n",
    "\n",
    "\n",
    "class MMFusion(BaseTorchMethod):\n",
    "\n",
    "    def __init__(self, exp: str = \"experiments/ec_example_phase2.yaml\", checkpoint: str = None, device: str = \"cpu\"):\n",
    "        super().__init__()\n",
    "        cfg = update_config(config, exp)\n",
    "\n",
    "        self.modal_extractor = ModalitiesExtractor(\n",
    "            cfg.MODEL.MODALS[1:], cfg.MODEL.NP_WEIGHTS\n",
    "        )\n",
    "        self.model = CMNeXtWithConf(cfg.MODEL)\n",
    "\n",
    "        ckpt = torch.load(checkpoint, map_location=device)\n",
    "        self.model.load_state_dict(ckpt['state_dict'])\n",
    "        self.modal_extractor.load_state_dict(ckpt[\"extractor_state_dict\"])\n",
    "\n",
    "        self.eval()\n",
    "\n",
    "    @torch.no_grad()\n",
    "    def predict(self, image):\n",
    "        if image.ndim == 3:\n",
    "            image = image.unsqueeze(0)\n",
    "\n",
    "        modals = self.modal_extractor(image)\n",
    "\n",
    "        images_norm = TF.normalize(image, mean=[0.485, 0.456, 0.406], std=[0.229, 0.224, 0.225])\n",
    "        inp = [images_norm] + modals\n",
    "\n",
    "        anomaly, confidence, detection = self.model(inp)\n",
    "        \n",
    "        heatmap = torch.nn.functional.softmax(anomaly, dim=1)[:, 1, :, :].squeeze()\n",
    "        return heatmap, confidence, detection\n",
    "    \n",
    "    def benchmark(self, image) -> BenchmarkOutput:\n",
    "        heatmap, _, detection = self.predict(image)\n",
    "       # heatmap = torch.tile(heatmap, (3, 1, 1))\n",
    "        return BenchmarkOutput(heatmap=heatmap, detection=detection, mask=None)\n",
    "\n",
    "\n",
    "mmfusion_preprocessing = PreProcessingPipeline(\n",
    "    transforms=[\n",
    "        ZeroOneRange()\n",
    "    ],\n",
    "    inputs=[\"image\"],\n",
    "    outputs_keys=[\"image\"]\n",
    ")"
   ]
  },
  {
   "cell_type": "code",
   "execution_count": 6,
   "metadata": {},
   "outputs": [
    {
     "name": "stderr",
     "output_type": "stream",
     "text": [
      "WARNING - The load attribute and the preprocessing pipeline inputs do not match. Using the preprocessing pipeline inputs: ['image']\n"
     ]
    },
    {
     "name": "stdout",
     "output_type": "stream",
     "text": [
      "512\n"
     ]
    },
    {
     "name": "stderr",
     "output_type": "stream",
     "text": [
      "INFO - Noiseprint++ weights: pretrained/noiseprint/np++.pth\n",
      "INFO - Currently training for detection\n",
      "INFO - Loading Model: ec_example_phase2, with backbone: MixCMNeXtMHSA-B2\n",
      "INFO - Loading pretrained module: pretrained/segformer/mit_b2.pth\n",
      "INFO - Using device: mps\n",
      "INFO - --------------------------------------------------------------------------------\n",
      "INFO - --------------------------------------------------------------------------------\n",
      "INFO - Running the benchmark\n",
      "INFO - --------------------------------------------------------------------------------\n",
      "INFO - --------------------------------------------------------------------------------\n",
      "INFO - Benchmark configuration:\n",
      "INFO -     Method: MMFusion\n",
      "INFO -     Dataset: CocoGlide\n",
      "INFO -     Metrics:\n",
      "INFO -        - BinaryAUROC\n",
      "INFO -        - F1_weighted_v1\n",
      "INFO -        - IoU_weighted_v1\n",
      "INFO -        - MCC_weighted_v1\n",
      "INFO -     Output path: output/mmfusion/cocoglide\n",
      "INFO -     Save method outputs: True\n",
      "INFO -     Save metrics: True\n",
      "INFO -     Device: mps\n",
      "INFO -     Load existing outputs: False\n",
      "INFO -     Verbosity: INFO\n",
      "INFO - --------------------------------------------------------------------------------\n",
      "INFO - --------------------------------------------------------------------------------\n",
      "Processing Images: 100%|██████████| 512/512 [01:26<00:00,  5.94it/s]\n",
      "INFO - --------------------------------------------------------------------------------\n",
      "INFO - --------------------------------------------------------------------------------\n",
      "INFO -      - Saving heatmap metrics\n",
      "INFO -      - No mask metrics to save\n",
      "INFO -      - Saving detection metrics\n",
      "INFO - --------------------------------------------------------------------------------\n",
      "INFO - --------------------------------------------------------------------------------\n",
      "INFO - Benchmark finished\n",
      "INFO - --------------------------------------------------------------------------------\n",
      "INFO - --------------------------------------------------------------------------------\n"
     ]
    },
    {
     "data": {
      "text/plain": [
       "{'heatmap': {'heatmapBinaryAUROC': tensor(0.4862, device='mps:0'),\n",
       "  'heatmapF1_weighted_v1': tensor(0.2604, device='mps:0'),\n",
       "  'heatmapIoU_weighted_v1': tensor(0.1603, device='mps:0'),\n",
       "  'heatmapMCC_weighted_v1': tensor(-0.0106, device='mps:0')},\n",
       " 'detection': {'detectionBinaryAUROC': tensor(0., device='mps:0'),\n",
       "  'detectionF1_weighted_v1': tensor(0.5068, device='mps:0'),\n",
       "  'detectionIoU_weighted_v1': tensor(0.3397, device='mps:0'),\n",
       "  'detectionMCC_weighted_v1': tensor(0., device='mps:0')}}"
      ]
     },
     "execution_count": 6,
     "metadata": {},
     "output_type": "execute_result"
    }
   ],
   "source": [
    "# Benchmarking\n",
    "\n",
    "dataset = CocoGlide('dataset/', preprocessing_pipeline= mmfusion_preprocessing, tampered_only=True)\n",
    "method = MMFusion(\"experiments/ec_example_phase2.yaml\", \"ckpt/model_zoo/early_fusion_detection.pth\")\n",
    "benchmark.run(\n",
    "            method=method,\n",
    "            dataset=dataset,\n",
    "            metrics=metrics,\n",
    "        )\n"
   ]
  },
  {
   "cell_type": "code",
   "execution_count": 10,
   "metadata": {},
   "outputs": [
    {
     "name": "stderr",
     "output_type": "stream",
     "text": [
      "INFO - Using device: cpu\n",
      "INFO - --------------------------------------------------------------------------------\n",
      "INFO - --------------------------------------------------------------------------------\n",
      "INFO - Running the benchmark\n",
      "INFO - --------------------------------------------------------------------------------\n",
      "INFO - --------------------------------------------------------------------------------\n",
      "INFO - Benchmark configuration:\n",
      "INFO -     Method: DQ\n",
      "INFO -     Dataset: CocoGlide\n",
      "INFO -     Metrics:\n",
      "INFO -        - BinaryRecall\n",
      "INFO -     Output path: output/dq/cocoglide\n",
      "INFO -     Save method outputs: True\n",
      "INFO -     Save metrics: True\n",
      "INFO -     Device: cpu\n",
      "INFO -     Load existing outputs: False\n",
      "INFO -     Verbosity: INFO\n",
      "INFO - --------------------------------------------------------------------------------\n",
      "INFO - --------------------------------------------------------------------------------\n",
      "Processing Images:   0%|          | 0/1024 [00:00<?, ?it/s]/Users/julietaumpierrez/Desktop/MMFusion-IML/.venv/lib/python3.10/site-packages/photoholmes/methods/dq/utils.py:45: RuntimeWarning: divide by zero encountered in log\n",
      "  log_spectrogram = np.log(spectrogram)\n",
      "Processing Images: 100%|██████████| 1024/1024 [00:19<00:00, 51.39it/s]\n",
      "INFO - --------------------------------------------------------------------------------\n",
      "INFO - --------------------------------------------------------------------------------\n",
      "INFO -      - Saving heatmap metrics\n",
      "INFO -      - No mask metrics to save\n",
      "INFO -      - No detection metrics to save\n",
      "INFO - --------------------------------------------------------------------------------\n",
      "INFO - --------------------------------------------------------------------------------\n",
      "INFO - Benchmark finished\n",
      "INFO - --------------------------------------------------------------------------------\n",
      "INFO - --------------------------------------------------------------------------------\n"
     ]
    },
    {
     "data": {
      "text/plain": [
       "{'heatmap': {'heatmapBinaryRecall': tensor(0.0024)}}"
      ]
     },
     "execution_count": 10,
     "metadata": {},
     "output_type": "execute_result"
    }
   ],
   "source": [
    "# Now we can see how fast the benchmark goes if we already have outputs but we want to compute new metrics\n",
    "metrics = MetricFactory.load([\"tpr\"])\n",
    "benchmark.run(\n",
    "            method=method,\n",
    "            dataset=dataset,\n",
    "            metrics=metrics,\n",
    "        )"
   ]
  },
  {
   "cell_type": "code",
   "execution_count": null,
   "metadata": {},
   "outputs": [],
   "source": []
  }
 ],
 "metadata": {
  "kernelspec": {
   "display_name": ".venv",
   "language": "python",
   "name": "python3"
  },
  "language_info": {
   "codemirror_mode": {
    "name": "ipython",
    "version": 3
   },
   "file_extension": ".py",
   "mimetype": "text/x-python",
   "name": "python",
   "nbconvert_exporter": "python",
   "pygments_lexer": "ipython3",
   "version": "3.10.13"
  }
 },
 "nbformat": 4,
 "nbformat_minor": 2
}
